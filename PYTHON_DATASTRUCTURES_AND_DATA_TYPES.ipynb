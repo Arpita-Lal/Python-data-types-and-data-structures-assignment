{
  "nbformat": 4,
  "nbformat_minor": 0,
  "metadata": {
    "colab": {
      "provenance": []
    },
    "kernelspec": {
      "name": "python3",
      "display_name": "Python 3"
    },
    "language_info": {
      "name": "python"
    }
  },
  "cells": [
    {
      "cell_type": "markdown",
      "source": [
        "**DATA TYPES AND STRUCTURES QUESTIONS**"
      ],
      "metadata": {
        "id": "IQZF6XyZsd2W"
      }
    },
    {
      "cell_type": "markdown",
      "source": [
        "**THEORY QUESTIONS**"
      ],
      "metadata": {
        "id": "AmK0eQfnvmcB"
      }
    },
    {
      "cell_type": "markdown",
      "source": [
        "1. What are data structures, and why are they important?\n",
        "\n",
        "Ans.Data structures are a way of organizing and storing data in a computer so that it can be used efficiently. They are important because they enable programs to handle large amounts of information effectively, making code more efficient, understandable, and scalable.\n",
        "\n",
        "2. Explain the difference between mutable and immutable data types with examples.\n",
        "\n",
        "Ans.Mutable data types can be modified after they are created, while immutable data types cannot.\n",
        "Lists,dictionaries and sets are mutable whereas strings and tuples are immutable.\n",
        "\n",
        "3. What are the main differences between lists and tuples in Python?\n",
        "\n",
        "Ans.Lists are ordered, changeable (mutable) collections of items. You can add, remove, or modify elements directly within the list.\n",
        "Tuples are ordered collections of items, similar to lists, but they are immutable.\n",
        "\n",
        "4. Describe how dictionaries store data.\n",
        "\n",
        "Ans.Dictionaries store data in key-value pairs. Each value is associated with a unique key, allowing for quick retrieval of data based on its corresponding key.\n",
        "\n",
        "5. Why might you use a set instead of a list in Python?\n",
        "\n",
        "Ans. In python, we use a set instead of a list because of uniqueness of elements, fast membership testing, mathematical set operations.\n",
        "\n",
        "6. What is a string in Python, and how is it different from a list?\n",
        "\n",
        "Ans.In Python, a string is an immutable sequence of characters, while a list is a mutable sequence of items. Strings are enclosed in single or double quotes, while lists are enclosed in square brackets. Lists can contain items of different data types, whereas strings are sequences of characters.\n",
        "\n",
        "7. How do tuples ensure data integrity in Python?\n",
        "\n",
        "Ans.Tuples in Python ensure data integrity primarily through their immutability. This means that once a tuple is created, its elements cannot be changed, added, or removed.\n",
        "\n",
        "8. What is a hash table, and how does it relate to dictionaries in Python?\n",
        "\n",
        "Ans.A hash table is a data structure that stores key-value pairs using a hash function to compute an index. This allows fast data access, insertion, and deletion. In Python, dictionaries are implemented using hash tables, enabling efficient lookup and management of data through unique, hashable keys.\n",
        "\n",
        "9. Can lists contain different data types in Python?\n",
        "\n",
        "Ans.Yes, lists in Python can contain elements of different data types.\n",
        "\n",
        "10. Explain why strings are immutable in Python.\n",
        "\n",
        "Ans.Strings are immutable in Python to ensure data integrity, security, and performance. Once created, a string cannot be changed, allowing safe sharing across code. This design supports hashability, enabling strings to be used as dictionary keys. It also optimizes memory usage through interning and avoids unexpected side effects in programs.\n",
        "\n",
        "11. What advantages do dictionaries offer over lists for certain tasks?\n",
        "\n",
        "Ans.Dictionaries offer faster data retrieval when accessing elements by key rather than index, making them more efficient for tasks involving key-value lookups and data mapping.\n",
        "\n",
        "12. Describe a scenario where using a tuple would be preferable over a list.\n",
        "\n",
        "Ans.Use a tuple if you need an immutable collection where the elements won't change after creation\n",
        "\n",
        "13. How do sets handle duplicate values in Python?\n",
        "\n",
        "Ans.Sets automatically remove duplicate values. When elements are added to a set, only unique values are stored. Any repeated items are ignored, ensuring all elements are distinct.\n",
        "\n",
        "14. How does the \"in\" keyword work differently for lists and dictionaries?\n",
        "\n",
        "Ans.In a list, \"in\" checks if a value exists among the elements.\n",
        "In a dictionary, \"in\" checks if a key exists, not its value.\n",
        "\n",
        "15. Can you modify the elements of a tuple? Explain why or why not.\n",
        "\n",
        "Ans.No, tuples are immutable. Once created, their elements cannot be changed, added, or removed. This immutability ensures data integrity and allows tuples to be used as dictionary keys.\n",
        "\n",
        "16. What is a nested dictionary, and give an example of its use case?\n",
        "\n",
        "Ans.A nested dictionary is a dictionary where values are also dictionaries.\n",
        "EX:student = {\"Mihir\": {\"age\": 21, \"grade\": \"A\"}}\n",
        "Use case: Representing structured data like student records.\n",
        "\n",
        "17. Describe the time complexity of accessing elements in a dictionary.\n",
        "\n",
        "Ans.Accessing elements in a dictionary has an average time complexity of O(1) due to its underlying hash table implementation, allowing fast key-based lookups.\n",
        "\n",
        "18. In what situations are lists preferred over dictionaries?\n",
        "\n",
        "Ans.Lists are preferred when order matters, duplicate values are needed, or when dealing with sequential data like queues, stacks, or ordered collections without named keys.\n",
        "\n",
        "19. Why are dictionaries considered unordered, and how does that affect data retrieval?\n",
        "\n",
        "Ans.Before Python 3.7, dictionaries were unordered, meaning key-value pairs didn't retain insertion order. Since Python 3.7+, they preserve order, but logically still focus on key-based access, not position.\n",
        "\n",
        "20. Explain the difference between a list and a dictionary in terms of data retrieval.\n",
        "\n",
        "Ans.List:\n",
        "Lists retrieve data by index, requiring sequential access. Searching for an item has O(n) time complexity. They are ideal for ordered collections of items without key-value pairs.\n",
        "\n",
        "Dictionary:\n",
        "Dictionaries retrieve data by key with O(1) complexity. They're optimal for fast lookups and storing related data as key-value pairs, regardless of insertion order or position."
      ],
      "metadata": {
        "id": "1esdhZh4vuIp"
      }
    },
    {
      "cell_type": "markdown",
      "source": [
        "**PRATICAL QUESTIONS**"
      ],
      "metadata": {
        "id": "muNPK9PkjAX1"
      }
    },
    {
      "cell_type": "markdown",
      "source": [
        "1. Write a code to create a string with your name and print it.\n"
      ],
      "metadata": {
        "id": "Gd8WHBnZj7id"
      }
    },
    {
      "cell_type": "code",
      "source": [
        "name = \"Arpita Lal\"\n",
        "print(\"My name is:\", name)"
      ],
      "metadata": {
        "colab": {
          "base_uri": "https://localhost:8080/"
        },
        "id": "w-O6pIF6j7B0",
        "outputId": "19b1a3d8-39b5-445b-b6af-eef3ff3295e5"
      },
      "execution_count": 1,
      "outputs": [
        {
          "output_type": "stream",
          "name": "stdout",
          "text": [
            "My name is: Arpita Lal\n"
          ]
        }
      ]
    },
    {
      "cell_type": "markdown",
      "source": [
        "2. Write a code to find the length of the string 'Hello World\".\n"
      ],
      "metadata": {
        "id": "ccdK7QOkj9mU"
      }
    },
    {
      "cell_type": "code",
      "source": [
        "string = \"Hello World\"\n",
        "length = len(string)\n",
        "print(length)"
      ],
      "metadata": {
        "colab": {
          "base_uri": "https://localhost:8080/"
        },
        "id": "Ee-rdVzajHQz",
        "outputId": "a41f9e48-ad77-4706-e06b-e6a0dfe483e2"
      },
      "execution_count": 2,
      "outputs": [
        {
          "output_type": "stream",
          "name": "stdout",
          "text": [
            "11\n"
          ]
        }
      ]
    },
    {
      "cell_type": "markdown",
      "source": [
        "3. Write a code to slice the first 3 characters from the string \"Python Programming'.\n"
      ],
      "metadata": {
        "id": "B22_FAOdkBDm"
      }
    },
    {
      "cell_type": "code",
      "source": [
        "original_string = \"Python Programming\"\n",
        "sliced_string = original_string[:3]\n",
        "print(sliced_string)"
      ],
      "metadata": {
        "colab": {
          "base_uri": "https://localhost:8080/"
        },
        "id": "PIhY0h06jHMs",
        "outputId": "21ee6ac3-d533-4733-e17a-c86b06762bc9"
      },
      "execution_count": 3,
      "outputs": [
        {
          "output_type": "stream",
          "name": "stdout",
          "text": [
            "Pyt\n"
          ]
        }
      ]
    },
    {
      "cell_type": "markdown",
      "source": [
        "4. Write a code to convert the string \"hello\" to uppercase.\n"
      ],
      "metadata": {
        "id": "MuexKYcFkGIV"
      }
    },
    {
      "cell_type": "code",
      "source": [
        "text = \"hello\"\n",
        "uppercase_text = text.upper()\n",
        "print(uppercase_text)"
      ],
      "metadata": {
        "colab": {
          "base_uri": "https://localhost:8080/"
        },
        "id": "ScifqslhjHIs",
        "outputId": "9f0e25e1-c23d-4ca5-ba98-6ff491bea735"
      },
      "execution_count": 4,
      "outputs": [
        {
          "output_type": "stream",
          "name": "stdout",
          "text": [
            "HELLO\n"
          ]
        }
      ]
    },
    {
      "cell_type": "markdown",
      "source": [
        "5. Write a code to replace the word \"apple\" with \"orange\" in the string \"I like apple\".\n"
      ],
      "metadata": {
        "id": "2joeeCBCkI-G"
      }
    },
    {
      "cell_type": "code",
      "source": [
        "text = \"I like apple\"\n",
        "new_text = text.replace(\"apple\", \"orange\")\n",
        "print(new_text)"
      ],
      "metadata": {
        "colab": {
          "base_uri": "https://localhost:8080/"
        },
        "id": "Jjd12jnLjHEl",
        "outputId": "c56f37e5-3afe-417f-834a-aba02e49657e"
      },
      "execution_count": 5,
      "outputs": [
        {
          "output_type": "stream",
          "name": "stdout",
          "text": [
            "I like orange\n"
          ]
        }
      ]
    },
    {
      "cell_type": "markdown",
      "source": [
        "6. Write a code to create a list with numbers 1 to 5 and print it.\n"
      ],
      "metadata": {
        "id": "dukJNOo8kMUk"
      }
    },
    {
      "cell_type": "code",
      "source": [
        "numbers = list(range(1, 6))\n",
        "print(numbers)"
      ],
      "metadata": {
        "colab": {
          "base_uri": "https://localhost:8080/"
        },
        "id": "748tgEQ2jHAw",
        "outputId": "15413970-8920-4c9c-e851-abde7f081c81"
      },
      "execution_count": 6,
      "outputs": [
        {
          "output_type": "stream",
          "name": "stdout",
          "text": [
            "[1, 2, 3, 4, 5]\n"
          ]
        }
      ]
    },
    {
      "cell_type": "markdown",
      "source": [
        "7. Write a code to append the number 10 to the list [1, 2, 3, 4].\n"
      ],
      "metadata": {
        "id": "-zEKjovSkQSC"
      }
    },
    {
      "cell_type": "code",
      "source": [
        "my_list = [1, 2, 3, 4]\n",
        "my_list.append(10)\n",
        "print(my_list)"
      ],
      "metadata": {
        "colab": {
          "base_uri": "https://localhost:8080/"
        },
        "id": "_yfgSbFDjG8c",
        "outputId": "8289c457-e997-47cc-d8e0-f4be76a94465"
      },
      "execution_count": 7,
      "outputs": [
        {
          "output_type": "stream",
          "name": "stdout",
          "text": [
            "[1, 2, 3, 4, 10]\n"
          ]
        }
      ]
    },
    {
      "cell_type": "markdown",
      "source": [
        "8. Write a code to remove the number 3 from the list [1, 2, 3, 4, 5].\n"
      ],
      "metadata": {
        "id": "hyuhgXc8kSns"
      }
    },
    {
      "cell_type": "code",
      "source": [
        "numbers = [1, 2, 3, 4, 5]\n",
        "numbers.remove(3)\n",
        "print(numbers)"
      ],
      "metadata": {
        "colab": {
          "base_uri": "https://localhost:8080/"
        },
        "id": "Hm1rhxNqjG48",
        "outputId": "b5cb045b-3a29-4adc-8fa5-e89f03a09705"
      },
      "execution_count": 8,
      "outputs": [
        {
          "output_type": "stream",
          "name": "stdout",
          "text": [
            "[1, 2, 4, 5]\n"
          ]
        }
      ]
    },
    {
      "cell_type": "markdown",
      "source": [
        "9. Write a code to access the second element in the list ['a', 'b', 'c', 'd'].\n"
      ],
      "metadata": {
        "id": "o2gS4wNSkTil"
      }
    },
    {
      "cell_type": "code",
      "source": [
        "letters = ['a', 'b', 'c', 'd']\n",
        "second_element = letters[1]\n",
        "print(\"The second element is:\", second_element)"
      ],
      "metadata": {
        "colab": {
          "base_uri": "https://localhost:8080/"
        },
        "id": "OqQ4qN_jjG0-",
        "outputId": "aba26bc8-5f72-4f46-b4b5-8072d3fb9b55"
      },
      "execution_count": 9,
      "outputs": [
        {
          "output_type": "stream",
          "name": "stdout",
          "text": [
            "The second element is: b\n"
          ]
        }
      ]
    },
    {
      "cell_type": "markdown",
      "source": [
        "10. Write a code to reverse the list [10, 20, 30, 40, 50]."
      ],
      "metadata": {
        "id": "UE_2KTUvkdhu"
      }
    },
    {
      "cell_type": "code",
      "source": [
        "numbers = [10, 20, 30, 40, 50]\n",
        "numbers.reverse()\n",
        "print(numbers)"
      ],
      "metadata": {
        "colab": {
          "base_uri": "https://localhost:8080/"
        },
        "id": "WUqgQUCAjGxs",
        "outputId": "b5aef40a-2c7c-4f69-e108-b40d3f223b17"
      },
      "execution_count": 10,
      "outputs": [
        {
          "output_type": "stream",
          "name": "stdout",
          "text": [
            "[50, 40, 30, 20, 10]\n"
          ]
        }
      ]
    },
    {
      "cell_type": "markdown",
      "source": [
        "11. Write a code to create a tuple with the elements 100, 200, 300 and print it.\n"
      ],
      "metadata": {
        "id": "kVIPL62Lkoel"
      }
    },
    {
      "cell_type": "code",
      "source": [
        "my_tuple = (100, 200, 300)\n",
        "print(my_tuple)"
      ],
      "metadata": {
        "colab": {
          "base_uri": "https://localhost:8080/"
        },
        "id": "a61mH4UvjGuU",
        "outputId": "9602c4c1-f8d1-4308-8bf3-b709bfb9827d"
      },
      "execution_count": 11,
      "outputs": [
        {
          "output_type": "stream",
          "name": "stdout",
          "text": [
            "(100, 200, 300)\n"
          ]
        }
      ]
    },
    {
      "cell_type": "markdown",
      "source": [
        "12. Write a code to access the second-to-last element of the tuple (red, green', 'blue', 'yellow').\n"
      ],
      "metadata": {
        "id": "YjP6LjF6krcm"
      }
    },
    {
      "cell_type": "code",
      "source": [
        "colors = ('red', 'green', 'blue', 'yellow')\n",
        "print(colors[-2])"
      ],
      "metadata": {
        "colab": {
          "base_uri": "https://localhost:8080/"
        },
        "id": "m654w_CojGqs",
        "outputId": "8daf4304-c535-4114-8566-3e9df3f6f520"
      },
      "execution_count": 12,
      "outputs": [
        {
          "output_type": "stream",
          "name": "stdout",
          "text": [
            "blue\n"
          ]
        }
      ]
    },
    {
      "cell_type": "markdown",
      "source": [
        "13. Write a code to find the minimum number in the tuple (10, 20, 5, 15).\n"
      ],
      "metadata": {
        "id": "Th3kZ3wlkvlk"
      }
    },
    {
      "cell_type": "code",
      "source": [
        "numbers = (10, 20, 5, 15)\n",
        "print(min(numbers))"
      ],
      "metadata": {
        "colab": {
          "base_uri": "https://localhost:8080/"
        },
        "id": "_fWKna2bjGm-",
        "outputId": "ddf5c1f7-de29-4167-8c28-67b1651b1395"
      },
      "execution_count": 13,
      "outputs": [
        {
          "output_type": "stream",
          "name": "stdout",
          "text": [
            "5\n"
          ]
        }
      ]
    },
    {
      "cell_type": "markdown",
      "source": [
        "14. Write a code to find the index of the element \"cat\" in the tuple (dog', 'cat, rabbit').\n"
      ],
      "metadata": {
        "id": "Xsybt_HgkyyV"
      }
    },
    {
      "cell_type": "code",
      "source": [
        "animals = ('dog', 'cat', 'rabbit')\n",
        "print(animals.index('cat'))"
      ],
      "metadata": {
        "colab": {
          "base_uri": "https://localhost:8080/"
        },
        "id": "l4MNxi3PjGgl",
        "outputId": "08a02b3f-1ee6-4b48-850a-313be6f9b96c"
      },
      "execution_count": 14,
      "outputs": [
        {
          "output_type": "stream",
          "name": "stdout",
          "text": [
            "1\n"
          ]
        }
      ]
    },
    {
      "cell_type": "markdown",
      "source": [
        "\n",
        "15. Write a code to create a tuple containing three different fruits and check if \"kiwi\" is in it.\n"
      ],
      "metadata": {
        "id": "xmU2yKBqk2s8"
      }
    },
    {
      "cell_type": "code",
      "source": [
        "fruits = ('apple', 'banana', 'kiwi')\n",
        "print('kiwi' in fruits)"
      ],
      "metadata": {
        "colab": {
          "base_uri": "https://localhost:8080/"
        },
        "id": "QmhUrEMejGdF",
        "outputId": "93776bd3-f9a8-463f-8b77-f1076c5618ff"
      },
      "execution_count": 15,
      "outputs": [
        {
          "output_type": "stream",
          "name": "stdout",
          "text": [
            "True\n"
          ]
        }
      ]
    },
    {
      "cell_type": "markdown",
      "source": [
        "16. Write a code to create a set with the elements 'a', 'b', 'c' and print it.\n"
      ],
      "metadata": {
        "id": "SZ7JmDvSk7E2"
      }
    },
    {
      "cell_type": "code",
      "source": [
        "my_set = {'a', 'b', 'c'}\n",
        "print(my_set)"
      ],
      "metadata": {
        "colab": {
          "base_uri": "https://localhost:8080/"
        },
        "id": "jCP_raryjGZu",
        "outputId": "2714e4f3-79d5-4be5-fbc4-c59da1355d24"
      },
      "execution_count": 16,
      "outputs": [
        {
          "output_type": "stream",
          "name": "stdout",
          "text": [
            "{'a', 'b', 'c'}\n"
          ]
        }
      ]
    },
    {
      "cell_type": "markdown",
      "source": [
        "17. Write a code to clear all elements from the set {1, 2, 3, 4, 5}.\n"
      ],
      "metadata": {
        "id": "RzgjIT1-k8fS"
      }
    },
    {
      "cell_type": "code",
      "source": [
        "s = {1, 2, 3, 4, 5}\n",
        "s.clear()\n",
        "print(s)"
      ],
      "metadata": {
        "colab": {
          "base_uri": "https://localhost:8080/"
        },
        "id": "NofZ6FgrjGWF",
        "outputId": "7df74f06-57c2-451c-e53e-e42ee942e846"
      },
      "execution_count": 17,
      "outputs": [
        {
          "output_type": "stream",
          "name": "stdout",
          "text": [
            "set()\n"
          ]
        }
      ]
    },
    {
      "cell_type": "markdown",
      "source": [
        "\n",
        "18. Write a code to remove the element 4 from the set {1, 2, 3, 4}.\n"
      ],
      "metadata": {
        "id": "7TlxrbMulBdk"
      }
    },
    {
      "cell_type": "code",
      "source": [
        "s = {1, 2, 3, 4}\n",
        "s.remove(4)\n",
        "print(s)"
      ],
      "metadata": {
        "colab": {
          "base_uri": "https://localhost:8080/"
        },
        "id": "M9AgOMwYjGSt",
        "outputId": "6766020f-c959-49a1-b5af-fe1cc8bfd291"
      },
      "execution_count": 18,
      "outputs": [
        {
          "output_type": "stream",
          "name": "stdout",
          "text": [
            "{1, 2, 3}\n"
          ]
        }
      ]
    },
    {
      "cell_type": "markdown",
      "source": [
        "19. Write a code to find the union of two sets {1, 2, 3} and {3, 4, 5}.\n"
      ],
      "metadata": {
        "id": "h8k57aX-lMcb"
      }
    },
    {
      "cell_type": "code",
      "source": [
        "set1 = {1, 2, 3}\n",
        "set2 = {3, 4, 5}\n",
        "print(set1.union(set2))"
      ],
      "metadata": {
        "colab": {
          "base_uri": "https://localhost:8080/"
        },
        "id": "_1TwZY7rjGO0",
        "outputId": "ec5b558d-8401-435a-cda9-e73a43fbb840"
      },
      "execution_count": 19,
      "outputs": [
        {
          "output_type": "stream",
          "name": "stdout",
          "text": [
            "{1, 2, 3, 4, 5}\n"
          ]
        }
      ]
    },
    {
      "cell_type": "markdown",
      "source": [
        "20. Write a code to find the intersection of two sets {1, 2, 3} and {2, 3, 4}.\n"
      ],
      "metadata": {
        "id": "Eo9sZ52ilXeb"
      }
    },
    {
      "cell_type": "code",
      "source": [
        "set1 = {1, 2, 3}\n",
        "set2 = {2, 3, 4}\n",
        "print(set1.intersection(set2))"
      ],
      "metadata": {
        "colab": {
          "base_uri": "https://localhost:8080/"
        },
        "id": "rV58himMjGLb",
        "outputId": "474aa6c2-247b-44f2-88c3-e3f6f3b8a404"
      },
      "execution_count": 20,
      "outputs": [
        {
          "output_type": "stream",
          "name": "stdout",
          "text": [
            "{2, 3}\n"
          ]
        }
      ]
    },
    {
      "cell_type": "markdown",
      "source": [
        "21. Write a code to create a dictionary with the keys \"name\", \"age\", and \"city\", and print it.\n"
      ],
      "metadata": {
        "id": "BwBK8q6Vld3l"
      }
    },
    {
      "cell_type": "code",
      "source": [
        "person = {\"name\": \"Alice\", \"age\": 30, \"city\": \"New York\"}\n",
        "print(person)"
      ],
      "metadata": {
        "colab": {
          "base_uri": "https://localhost:8080/"
        },
        "id": "Np0CpMCdjGHf",
        "outputId": "14d0c970-c77c-4f99-f71a-8e815c56d5e7"
      },
      "execution_count": 21,
      "outputs": [
        {
          "output_type": "stream",
          "name": "stdout",
          "text": [
            "{'name': 'Alice', 'age': 30, 'city': 'New York'}\n"
          ]
        }
      ]
    },
    {
      "cell_type": "markdown",
      "source": [
        "\n",
        "22. Write a code to add a new key-value pair \"country\": \"USA\" to the dictionary {'name': 'John', 'age': 25}.\n"
      ],
      "metadata": {
        "id": "86-AusKnlhwl"
      }
    },
    {
      "cell_type": "code",
      "execution_count": 22,
      "metadata": {
        "id": "sm3SseQNsDbU",
        "colab": {
          "base_uri": "https://localhost:8080/"
        },
        "outputId": "34c21c36-feed-4505-eff2-7ddf7f575d70"
      },
      "outputs": [
        {
          "output_type": "stream",
          "name": "stdout",
          "text": [
            "{'name': 'John', 'age': 25, 'country': 'USA'}\n"
          ]
        }
      ],
      "source": [
        "person = {'name': 'John', 'age': 25}\n",
        "person['country'] = 'USA'\n",
        "print(person)"
      ]
    },
    {
      "cell_type": "markdown",
      "source": [
        "23. Write a code to access the value associated with the key \"name\" in the dictionary {'name': 'Alice', 'age': 30}."
      ],
      "metadata": {
        "id": "02Z_XEuGlnGr"
      }
    },
    {
      "cell_type": "code",
      "source": [
        "person = {'name': 'Alice', 'age': 30}\n",
        "print(person['name'])"
      ],
      "metadata": {
        "colab": {
          "base_uri": "https://localhost:8080/"
        },
        "id": "FoCjwTEPlkOC",
        "outputId": "65a407cd-a48d-495c-98b7-56cde668f68a"
      },
      "execution_count": 23,
      "outputs": [
        {
          "output_type": "stream",
          "name": "stdout",
          "text": [
            "Alice\n"
          ]
        }
      ]
    },
    {
      "cell_type": "markdown",
      "source": [
        "24. Write a code to remove the key \"age\" from the dictionary {'name': 'Bob', 'age: 22, 'city: New York}"
      ],
      "metadata": {
        "id": "FBJl3DrBlszk"
      }
    },
    {
      "cell_type": "code",
      "source": [
        "person = {'name': 'Bob', 'age': 22, 'city': 'New York'}\n",
        "person.pop('age')\n",
        "print(person)"
      ],
      "metadata": {
        "colab": {
          "base_uri": "https://localhost:8080/"
        },
        "id": "5kbD19f1lmjE",
        "outputId": "1a5ae1d2-919c-48e3-fb93-8b1fc28b3b2d"
      },
      "execution_count": 24,
      "outputs": [
        {
          "output_type": "stream",
          "name": "stdout",
          "text": [
            "{'name': 'Bob', 'city': 'New York'}\n"
          ]
        }
      ]
    },
    {
      "cell_type": "markdown",
      "source": [
        "25. Write a code to check if the key \"city\" exists in the dictionary {'name': 'Alice', 'city': 'Paris'}."
      ],
      "metadata": {
        "id": "r8wsbk-Bl_ts"
      }
    },
    {
      "cell_type": "code",
      "source": [
        "person = {'name': 'Alice', 'city': 'Paris'}\n",
        "print('city' in person)"
      ],
      "metadata": {
        "colab": {
          "base_uri": "https://localhost:8080/"
        },
        "id": "xFh9T03BlmbM",
        "outputId": "edb9daf5-5460-41a0-9ba9-b27977ed09af"
      },
      "execution_count": 25,
      "outputs": [
        {
          "output_type": "stream",
          "name": "stdout",
          "text": [
            "True\n"
          ]
        }
      ]
    },
    {
      "cell_type": "markdown",
      "source": [
        "26. Write a code to create a list, a tuple, and a dictionary, and print them all.\n"
      ],
      "metadata": {
        "id": "0RnXqoRpmH99"
      }
    },
    {
      "cell_type": "code",
      "source": [
        "my_list = [1, 2, 3]\n",
        "my_tuple = (4, 5, 6)\n",
        "my_dict = {'a': 1, 'b': 2}\n",
        "\n",
        "print(\"List:\", my_list)\n",
        "print(\"Tuple:\", my_tuple)\n",
        "print(\"Dictionary:\", my_dict)"
      ],
      "metadata": {
        "colab": {
          "base_uri": "https://localhost:8080/"
        },
        "id": "WHJsg2t6lmQq",
        "outputId": "cc655857-cf14-47b1-c13c-f82101869944"
      },
      "execution_count": 26,
      "outputs": [
        {
          "output_type": "stream",
          "name": "stdout",
          "text": [
            "List: [1, 2, 3]\n",
            "Tuple: (4, 5, 6)\n",
            "Dictionary: {'a': 1, 'b': 2}\n"
          ]
        }
      ]
    },
    {
      "cell_type": "markdown",
      "source": [
        "27. Write a code to create a list of 5 random numbers between 1 and 100, sort it in ascending order, and print the result. (replaced)\n"
      ],
      "metadata": {
        "id": "EdkGrJ9omMu0"
      }
    },
    {
      "cell_type": "code",
      "source": [
        "import random\n",
        "\n",
        "numbers = random.sample(range(1, 101), 5)\n",
        "numbers.sort()\n",
        "print(\"Sorted random numbers:\", numbers)"
      ],
      "metadata": {
        "colab": {
          "base_uri": "https://localhost:8080/"
        },
        "id": "pV1wnkwllmGz",
        "outputId": "9fa062b4-e67c-4773-d45b-eff6acc1ae1b"
      },
      "execution_count": 27,
      "outputs": [
        {
          "output_type": "stream",
          "name": "stdout",
          "text": [
            "Sorted random numbers: [7, 19, 29, 62, 64]\n"
          ]
        }
      ]
    },
    {
      "cell_type": "markdown",
      "source": [
        "28. Write a code to create a list with strings and print the element at the third index.\n"
      ],
      "metadata": {
        "id": "LwTrk5TxmRQL"
      }
    },
    {
      "cell_type": "code",
      "source": [
        "words = ['apple', 'banana', 'cherry', 'date', 'elderberry']\n",
        "print(\"Element at third index:\", words[3])"
      ],
      "metadata": {
        "colab": {
          "base_uri": "https://localhost:8080/"
        },
        "id": "CHfxtbmyllKW",
        "outputId": "a4387439-95c8-4b99-9010-ad88dcfa3c61"
      },
      "execution_count": 28,
      "outputs": [
        {
          "output_type": "stream",
          "name": "stdout",
          "text": [
            "Element at third index: date\n"
          ]
        }
      ]
    },
    {
      "cell_type": "markdown",
      "source": [
        "29. Write a code to combine two dictionaries into one and print the result.\n"
      ],
      "metadata": {
        "id": "4G68YPafmT7k"
      }
    },
    {
      "cell_type": "code",
      "source": [
        "dict1 = {'a': 1, 'b': 2}\n",
        "dict2 = {'c': 3, 'd': 4}\n",
        "\n",
        "combined = {**dict1, **dict2}\n",
        "print(\"Combined dictionary:\", combined)"
      ],
      "metadata": {
        "colab": {
          "base_uri": "https://localhost:8080/"
        },
        "id": "-FxtX-Tdlk-E",
        "outputId": "fc8af0b7-929b-47f3-81ac-7ae201c426eb"
      },
      "execution_count": 29,
      "outputs": [
        {
          "output_type": "stream",
          "name": "stdout",
          "text": [
            "Combined dictionary: {'a': 1, 'b': 2, 'c': 3, 'd': 4}\n"
          ]
        }
      ]
    },
    {
      "cell_type": "markdown",
      "source": [
        "30. Write a code to convert a list of strings into a set."
      ],
      "metadata": {
        "id": "k9vUsH5nmXb8"
      }
    },
    {
      "cell_type": "code",
      "source": [
        "string_list = ['apple', 'banana', 'cherry', 'apple']\n",
        "string_set = set(string_list)\n",
        "print(\"Set from list:\", string_set)"
      ],
      "metadata": {
        "colab": {
          "base_uri": "https://localhost:8080/"
        },
        "id": "PNvqA9qTlkx2",
        "outputId": "845b7e0e-3a97-4c42-c79f-eb76e52630e1"
      },
      "execution_count": 30,
      "outputs": [
        {
          "output_type": "stream",
          "name": "stdout",
          "text": [
            "Set from list: {'banana', 'cherry', 'apple'}\n"
          ]
        }
      ]
    }
  ]
}